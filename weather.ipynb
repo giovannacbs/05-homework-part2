{
 "cells": [
  {
   "cell_type": "markdown",
   "metadata": {},
   "source": [
    "#### 1. Examine both Open Meteo and Tomorrow and decide which one you'd prefer to use. What drove your decision?\n",
    "Documentation for Open Meteo seems easier - so far"
   ]
  },
  {
   "cell_type": "markdown",
   "metadata": {},
   "source": [
    "#### 2. What is the URL to the documentation? (You don't use code for this one)\n",
    "\n",
    "https://open-meteo.com/en/docs"
   ]
  },
  {
   "cell_type": "markdown",
   "metadata": {},
   "source": [
    "#### 3. Make a request for the current weather where you are born, or somewhere you've lived."
   ]
  },
  {
   "cell_type": "code",
   "execution_count": 161,
   "metadata": {},
   "outputs": [],
   "source": [
    "import requests\n",
    "import openmeteo_requests\n",
    "import requests_cache\n",
    "from retry_requests import retry\n",
    "import pandas as pd\n",
    "import numpy as np"
   ]
  },
  {
   "cell_type": "code",
   "execution_count": 165,
   "metadata": {},
   "outputs": [],
   "source": [
    "### From the documentation: ###\n",
    "# Setup the Open-Meteo API client with cache and retry on error\n",
    "cache_session = requests_cache.CachedSession('.cache', expire_after = 3600)\n",
    "retry_session = retry(cache_session, retries = 5, backoff_factor = 0.2)\n",
    "openmeteo = openmeteo_requests.Client(session = retry_session)"
   ]
  },
  {
   "cell_type": "code",
   "execution_count": 166,
   "metadata": {},
   "outputs": [],
   "source": [
    "url = \"https://api.open-meteo.com/v1/forecast\"\n",
    "params = {\n",
    "\t\"latitude\": -23.5804,\n",
    "\t\"longitude\": -46.5856,\n",
    "\t\"current\": [\"temperature_2m\", \"apparent_temperature\"]\n",
    "}\n",
    "responses = openmeteo.weather_api(url, params=params, verify=False)\n",
    "\n",
    "data = responses[0]"
   ]
  },
  {
   "cell_type": "code",
   "execution_count": 167,
   "metadata": {},
   "outputs": [
    {
     "name": "stdout",
     "output_type": "stream",
     "text": [
      "Current temperature: 14.75°C\n",
      "Apparent temperature: 15.13°C\n"
     ]
    }
   ],
   "source": [
    "current = data.Current()\n",
    "\n",
    "current_temperature = current.Variables(0).Value()\n",
    "apparent_temperature = current.Variables(1).Value()\n",
    "\n",
    "print(f\"Current temperature: {current_temperature:.2f}°C\")\n",
    "print(f\"Apparent temperature: {apparent_temperature:.2f}°C\")\n",
    "\n"
   ]
  },
  {
   "cell_type": "markdown",
   "metadata": {},
   "source": [
    "#### 4. Print out the country this location is in.\n"
   ]
  },
  {
   "cell_type": "markdown",
   "metadata": {},
   "source": [
    "No clue"
   ]
  },
  {
   "cell_type": "markdown",
   "metadata": {},
   "source": [
    "#### 5. Print out the difference between the current temperature and how warm it feels. Use \"It feels ___ degrees colder\" or \"It feels ___ degrees warmer,\" not negative numbers.\n"
   ]
  },
  {
   "cell_type": "code",
   "execution_count": 168,
   "metadata": {},
   "outputs": [
    {
     "name": "stdout",
     "output_type": "stream",
     "text": [
      "It feels 0.38 degrees warmer\n"
     ]
    }
   ],
   "source": [
    "diff = apparent_temperature - current_temperature\n",
    "\n",
    "if diff > 0:\n",
    "    print(f'It feels {diff:.2f} degrees warmer')\n",
    "elif diff < 0:\n",
    "    print(f'It feels {abs(diff):.2f} degrees colder')\n",
    "else:\n",
    "    print('It feels like it is')"
   ]
  },
  {
   "cell_type": "markdown",
   "metadata": {},
   "source": [
    "#### 6. What's the current temperature at Heathrow International Airport? Use the airport's IATA code to search."
   ]
  },
  {
   "cell_type": "code",
   "execution_count": 143,
   "metadata": {},
   "outputs": [],
   "source": [
    "url = \"https://api.open-meteo.com/v1/forecast\"\n",
    "params = {\n",
    "\t\"latitude\": 51.4712,\n",
    "\t\"longitude\": -0.4565,\n",
    "\t\"current\": [\"temperature_2m\", \"apparent_temperature\"]\n",
    "}\n",
    "\n",
    "responses = openmeteo.weather_api(url, params=params, verify=False)\n",
    "\n",
    "data = responses[0]"
   ]
  },
  {
   "cell_type": "code",
   "execution_count": 144,
   "metadata": {},
   "outputs": [
    {
     "name": "stdout",
     "output_type": "stream",
     "text": [
      "Current temperature: 13.30°C\n"
     ]
    }
   ],
   "source": [
    "current = data.Current()\n",
    "current_temperature = current.Variables(0).Value()\n",
    "\n",
    "print(f\"Current temperature: {current_temperature:.2f}°C\")\n"
   ]
  },
  {
   "cell_type": "markdown",
   "metadata": {},
   "source": [
    "#### 7. What URL would I use to request a 3-day forecast at Heathrow?\n"
   ]
  },
  {
   "cell_type": "code",
   "execution_count": 181,
   "metadata": {},
   "outputs": [],
   "source": [
    "url = \"https://api.open-meteo.com/v1/forecast\" \n",
    "params = {\n",
    "\t\"latitude\": 51.4712,\n",
    "\t\"longitude\": -0.4565,\n",
    "\t\"daily\": [\"temperature_2m_max\", \"temperature_2m_min\"],\n",
    "\t\"forecast_days\": 3\n",
    "}\n",
    "\n",
    "responses = openmeteo.weather_api(url, params=params, verify=False)\n",
    "\n",
    "data = responses[0]"
   ]
  },
  {
   "cell_type": "markdown",
   "metadata": {},
   "source": [
    "#### 8. Print the date of each of the 3 days you're getting a forecast for."
   ]
  },
  {
   "cell_type": "code",
   "execution_count": 182,
   "metadata": {},
   "outputs": [],
   "source": [
    "daily = data.Daily()"
   ]
  },
  {
   "cell_type": "code",
   "execution_count": 183,
   "metadata": {},
   "outputs": [],
   "source": [
    "temp_max = daily.Variables(0).ValuesAsNumpy()\n",
    "temp_min = daily.Variables(1).ValuesAsNumpy()"
   ]
  },
  {
   "cell_type": "code",
   "execution_count": 184,
   "metadata": {},
   "outputs": [],
   "source": [
    "### From documentation ###\n",
    "daily_data = {\"date\": pd.date_range(\n",
    "\tstart = pd.to_datetime(daily.Time(), unit = \"s\", utc = True),\n",
    "\tend = pd.to_datetime(daily.TimeEnd(), unit = \"s\", utc = True),\n",
    "\tfreq = pd.Timedelta(seconds = daily.Interval()),\n",
    "\tinclusive = \"left\"\n",
    ")}\n",
    "\n",
    "dates = daily_data['date']"
   ]
  },
  {
   "cell_type": "code",
   "execution_count": 185,
   "metadata": {},
   "outputs": [
    {
     "name": "stdout",
     "output_type": "stream",
     "text": [
      "2025-06-10\n",
      "2025-06-11\n",
      "2025-06-12\n"
     ]
    }
   ],
   "source": [
    "for date in dates:\n",
    "    print(f'{str(date.date())}')"
   ]
  },
  {
   "cell_type": "markdown",
   "metadata": {},
   "source": [
    "#### 9. Print the maximum temperature of each of the days."
   ]
  },
  {
   "cell_type": "code",
   "execution_count": 186,
   "metadata": {},
   "outputs": [],
   "source": [
    "### Hello, GPT :)\n",
    "\n",
    "weather_data = []\n",
    "\n",
    "for date, temp_max, temp_min in zip(dates, temp_max, temp_min):\n",
    "    entry = {\n",
    "        \"date\": str(date.date()),\n",
    "        \"temp_max\": float(temp_max),\n",
    "        \"temp_min\": float(temp_min)\n",
    "    }\n",
    "    weather_data.append(entry)"
   ]
  },
  {
   "cell_type": "code",
   "execution_count": 187,
   "metadata": {},
   "outputs": [
    {
     "name": "stdout",
     "output_type": "stream",
     "text": [
      "2025-06-10: 22.28°C\n",
      "2025-06-11: 24.18°C\n",
      "2025-06-12: 22.57°C\n"
     ]
    }
   ],
   "source": [
    "for weather in weather_data:\n",
    "    date = weather['date']\n",
    "    temp_max = weather['temp_max']\n",
    "    print(f'{date}: {temp_max:.2f}°C')"
   ]
  },
  {
   "cell_type": "markdown",
   "metadata": {},
   "source": [
    "#### 10. Print only the day with the highest maximum temperature."
   ]
  },
  {
   "cell_type": "code",
   "execution_count": 188,
   "metadata": {},
   "outputs": [
    {
     "name": "stdout",
     "output_type": "stream",
     "text": [
      "Highest temperature (24.18°C) will be on 2025-06-11\n"
     ]
    }
   ],
   "source": [
    "max_temp_max = 0\n",
    "day_max = 0\n",
    "\n",
    "for weather in weather_data:\n",
    "    date = weather['date']\n",
    "    temp_max = weather['temp_max']\n",
    "    if temp_max > max_temp_max:\n",
    "        max_temp_max = temp_max\n",
    "        day_max = date\n",
    "\n",
    "print(f'Highest temperature ({max_temp_max:.2f}°C) will be on {day_max}')\n"
   ]
  },
  {
   "cell_type": "markdown",
   "metadata": {},
   "source": [
    "#### 11. Did you find this easier or more difficult than using the weatherapi.com, and why? Which would you recommend to someone interesting in building a tool around weather information?"
   ]
  },
  {
   "cell_type": "markdown",
   "metadata": {},
   "source": [
    "Harder!!! WeatherApi was a dict, and it was so much easier to visualize and iterate"
   ]
  }
 ],
 "metadata": {
  "kernelspec": {
   "display_name": "myenv",
   "language": "python",
   "name": "python3"
  },
  "language_info": {
   "codemirror_mode": {
    "name": "ipython",
    "version": 3
   },
   "file_extension": ".py",
   "mimetype": "text/x-python",
   "name": "python",
   "nbconvert_exporter": "python",
   "pygments_lexer": "ipython3",
   "version": "3.12.6"
  }
 },
 "nbformat": 4,
 "nbformat_minor": 2
}
